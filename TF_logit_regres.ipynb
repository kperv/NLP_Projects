{
 "cells": [
  {
   "cell_type": "code",
   "execution_count": 1,
   "metadata": {},
   "outputs": [
    {
     "data": {
      "text/plain": [
       "<Figure size 640x480 with 1 Axes>"
      ]
     },
     "metadata": {},
     "output_type": "display_data"
    }
   ],
   "source": [
    "# Basics of Tensorflow\n",
    "# A simple tensorflow exercise to implement a perseptron on a library dataset, mostly by hand.\n",
    "# Dataset: Moons\n",
    "# Model: Logistic regression (calculated from equations)\n",
    "# Activation function: Sigmoid\n",
    "# Learning: Gradient Descent, Gradient Descent with Back gradient propagation, mini batch learning\n",
    "# Control: Cost function visualisation, MSE, accuracy score\n",
    "\n",
    "from sklearn.datasets import make_moons\n",
    "import matplotlib.pyplot as plt\n",
    "import tensorflow as tf\n",
    "\n",
    "data, target = make_moons()\n",
    "\n",
    "plt.scatter(data[:,0], data[:,1], c=target)\n",
    "plt.show()\n",
    "\n",
    "# prepare the data\n",
    "import numpy as np\n",
    "from sklearn.model_selection import train_test_split\n",
    "\n",
    "X_train, X_test, y_train, y_test = train_test_split(data, target, test_size=0.3, random_state=42, shuffle=True)\n",
    "\n",
    "\n",
    "X_train_plus_bias = np.hstack((np.ones((X_train.shape[0], 1)), X_train)).astype('float32')\n",
    "X_test_plus_bias = np.hstack((np.ones((X_test.shape[0], 1)), X_test)).astype('float32')\n",
    "\n",
    "y_train = y_train.reshape(-1, 1).astype('float32')\n",
    "y_test = y_test.reshape(-1, 1).astype('float32')\n",
    "\n",
    "m, n = X_train_plus_bias.shape"
   ]
  },
  {
   "cell_type": "code",
   "execution_count": 2,
   "metadata": {},
   "outputs": [],
   "source": [
    "from datetime import datetime\n",
    "\n",
    "now = datetime.utcnow().strftime(\"%Y%m%d%H%M%S\")\n",
    "root_logdir = \"tf_logs\"\n",
    "logdir = \"{}/run-{}/\".format(root_logdir, now)"
   ]
  },
  {
   "cell_type": "code",
   "execution_count": 3,
   "metadata": {},
   "outputs": [
    {
     "name": "stdout",
     "output_type": "stream",
     "text": [
      "WARNING:tensorflow:From /usr/lib/python3.7/site-packages/tensorflow/python/framework/op_def_library.py:263: colocate_with (from tensorflow.python.framework.ops) is deprecated and will be removed in a future version.\n",
      "Instructions for updating:\n",
      "Colocations handled automatically by placer.\n",
      "[[ 0.80099726]\n",
      " [ 1.4735812 ]\n",
      " [-6.3388743 ]]\n",
      "y_test: \n",
      "[[0. 1. 0. 1. 1. 1. 1. 0. 1. 0. 0. 0. 0. 0. 1. 0. 0. 1. 0. 0. 0. 0. 0. 1.\n",
      "  0. 1. 1. 1. 1. 1.]]\n",
      "y_pred_test: \n",
      "[[0. 1. 0. 0. 1. 1. 1. 0. 1. 0. 1. 0. 0. 1. 0. 0. 0. 1. 0. 0. 0. 1. 0. 0.\n",
      "  0. 1. 1. 1. 1. 1.]]\n",
      "accuracy 0.800000011920929: \n"
     ]
    },
    {
     "data": {
      "image/png": "[encoded data removed]",
      "text/plain": [
       "<Figure size 432x288 with 1 Axes>"
      ]
     },
     "metadata": {
      "needs_background": "light"
     },
     "output_type": "display_data"
    }
   ],
   "source": [
    "# Step 1. activate for Gradient Descent on bulk data\n",
    "X = tf.constant(X_train_plus_bias, dtype=tf.float32, name=\"X\")\n",
    "y = tf.constant(y_train.reshape(-1, 1), dtype=tf.float32, name=\"y\")\n",
    "\n",
    "# # Step 1. activate for mini-batch learning\n",
    "# batch_size = m//5\n",
    "# X = tf.placeholder(dtype=tf.float32, shape=(None, 3))\n",
    "# y = tf.placeholder(dtype=tf.float32, shape=(None, 1))\n",
    "# def fetch_batch(batch_size, m):\n",
    "#     index = np.random.choice(m, batch_size)\n",
    "#     X_batch = X_train_plus_bias[index].astype('float32')\n",
    "#     y_batch = y_train.reshape(-1, 1)[index].astype('float32')\n",
    "#     return X_batch, y_batch\n",
    "\n",
    "# -------------------------------------------------------------------\n",
    "\n",
    "# Step 2. Define theta vector and output of perseptron\n",
    "# prepare weights Q.shape = (3, 1). \n",
    "theta = tf.Variable(tf.random_uniform([n, 1], -1.0, 1.0, seed=0), name=\"theta\")\n",
    "# activation function logit\n",
    "sigmoid = 1 / (1 + tf.exp(-tf.matmul(X, theta)))\n",
    "# if sigmoid >= 0.5 y_pred is 1; 0 otherwise\n",
    "y_pred = tf.round(sigmoid)\n",
    "# learning rate\n",
    "lr = 0.5\n",
    "\n",
    "# -------------------------------------------------------------------\n",
    "\n",
    "# Step 3. Count dQ to be added to vector theta for a second run.\n",
    "error = (y_train - sigmoid) # for main gradient descent\n",
    "# error = (y_train - y_pred) * (sigmoid* (1 - sigmoid)) #for back propagation\n",
    "# error = (y - sigmoid) # for mini-batch gradient descent\n",
    "\n",
    "# -------------------------------------------------------------------\n",
    "\n",
    "# Step 4. Choose a function to minimize.\n",
    "# MSE\n",
    "mse = tf.reduce_mean(tf.square(error), name='mse')\n",
    "mse_summary = tf.summary.scalar('MSE', mse)\n",
    "file_writer = tf.summary.FileWriter(logdir, tf.get_default_graph())\n",
    "\n",
    "# Cost function\n",
    "J = tf.Variable(0, dtype=tf.float32, name=\"J\")\n",
    "J = -2/m * (tf.reduce_mean(y_pred*tf.log(sigmoid) + (1 - y_pred)*tf.log(1 - sigmoid)))\n",
    "\n",
    "J_summary = tf.summary.scalar('J', J)\n",
    "file_writer = tf.summary.FileWriter(logdir, tf.get_default_graph())\n",
    "# --------------------------------------------------------------------\n",
    "\n",
    "# Step 5. Update gradients and choose training operation\n",
    "gradients = 2/m * tf.matmul(X, error, transpose_a=True) #bulk gradient descent\n",
    "# gradients = 2/batch_size * tf.matmul(X, error, transpose_a=True) #mini-batch version\n",
    "# optimizer = tf.train.GradientDescentOptimizer(learning_rate=lr)\n",
    "# optimizer = tf.train.MomentumOptimizer(learning_rate=lr, momentum=0.9)\n",
    "\n",
    "training_op = tf.assign(theta, theta + lr * gradients)\n",
    "# training_op = optimizer.minimize(mse)\n",
    "# training_op = optimizer.minimize(J)\n",
    "\n",
    "# --------------------------------------------------------------------\n",
    "\n",
    "epochs = 1000\n",
    "init = tf.global_variables_initializer()\n",
    "saver = tf.train.Saver()\n",
    "\n",
    "with tf.Session() as sess:\n",
    "    history = []\n",
    "    sess.run(init)\n",
    "    for epoch in range(epochs):\n",
    "        summary_str = J_summary.eval()\n",
    "        file_writer.add_summary(summary_str, epoch)\n",
    "        summary_str_mse = mse_summary.eval()\n",
    "        file_writer.add_summary(summary_str_mse, epoch)\n",
    "        \n",
    "# #         activate for mini-batch learning\n",
    "#         X_batch, y_batch = fetch_batch(batch_size, m)\n",
    "#         sess.run(training_op, feed_dict={X: X_batch, y: y_batch})\n",
    "# #         history.append(J.eval(feed_dict={X: X_batch, y: y_batch}))\n",
    "# #         history.append(mse.eval(feed_dict={X: X_batch, y: y_batch}))\n",
    "        \n",
    "# #         activate for MSE\n",
    "#         history.append(mse.eval())\n",
    "#         sess.run(training_op)\n",
    "\n",
    "#         activate for cost function\n",
    "        history.append(J.eval())\n",
    "        sess.run(training_op)\n",
    "    best_theta = theta.eval()\n",
    "    save_path = saver.save(sess, \"/tmp/moons_final.ckpt\")\n",
    "    \n",
    "print(best_theta)  \n",
    "file_writer.close()\n",
    "\n",
    "# get accuracy score on test data\n",
    "X_test = tf.constant(X_test_plus_bias, dtype=tf.float32, name=\"X_test\")\n",
    "sigmoid_test = 1 / (1 + tf.exp(-tf.matmul(X_test, best_theta)))\n",
    "y_pred_test = tf.round(sigmoid_test)\n",
    "\n",
    "init = tf.global_variables_initializer()\n",
    "\n",
    "with tf.Session() as sess:\n",
    "    sess.run(init)\n",
    "    y_pred_test = y_pred_test.eval()\n",
    "    \n",
    "accuracy = ((len(y_test) - np.add.reduce(abs(y_test - y_pred_test))) / len(y_test))[0]\n",
    "print(\"y_test: \\n{}\".format(y_test.reshape(1, -1)))\n",
    "print(\"y_pred_test: \\n{}\".format(y_pred_test.reshape(1, -1)))\n",
    "print(\"accuracy {}: \".format(accuracy))\n",
    "    \n",
    "# # activate for MSE plot\n",
    "# plt.figure()\n",
    "# plt.title(\"MSE\")\n",
    "# plt.xlabel(\"Epochs\")\n",
    "# plt.plot(range(epochs), history)\n",
    "# plt.show()\n",
    "\n",
    "# activate for cost function plot\n",
    "plt.figure()\n",
    "plt.title(\"Cost function\")\n",
    "plt.xlabel(\"Epochs\")\n",
    "plt.plot(range(epochs), history)\n",
    "plt.show()"
   ]
  },
  {
   "cell_type": "code",
   "execution_count": 4,
   "metadata": {
    "scrolled": false
   },
   "outputs": [
    {
     "name": "stdout",
     "output_type": "stream",
     "text": [
      "WARNING:tensorflow:From /usr/lib/python3.7/site-packages/tensorflow/python/training/saver.py:1266: checkpoint_exists (from tensorflow.python.training.checkpoint_management) is deprecated and will be removed in a future version.\n",
      "Instructions for updating:\n",
      "Use standard file APIs to check for files with this prefix.\n",
      "INFO:tensorflow:Restoring parameters from /tmp/moons_final.ckpt\n",
      "[[ 0.80099726]\n",
      " [ 1.4735812 ]\n",
      " [-6.3388743 ]]\n"
     ]
    }
   ],
   "source": [
    "\n",
    "saver = tf.train.Saver()\n",
    "\n",
    "with tf.Session() as sess:\n",
    "    saver.restore(sess, \"/tmp/moons_final.ckpt\")\n",
    "    \n",
    "print(best_theta)    "
   ]
  }
 ],
 "metadata": {
  "kernelspec": {
   "display_name": "Python 3",
   "language": "python",
   "name": "python3"
  },
  "language_info": {
   "codemirror_mode": {
    "name": "ipython",
    "version": 3
   },
   "file_extension": ".py",
   "mimetype": "text/x-python",
   "name": "python",
   "nbconvert_exporter": "python",
   "pygments_lexer": "ipython3",
   "version": "3.7.4"
  }
 },
 "nbformat": 4,
 "nbformat_minor": 2
}
