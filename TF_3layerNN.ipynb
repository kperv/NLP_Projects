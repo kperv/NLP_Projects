{
 "cells": [
  {
   "cell_type": "code",
   "execution_count": 7,
   "metadata": {
    "scrolled": true
   },
   "outputs": [
    {
     "data": {
      "image/png": "[encoded data removed]",
      "text/plain": [
       "<Figure size 720x360 with 20 Axes>"
      ]
     },
     "metadata": {},
     "output_type": "display_data"
    }
   ],
   "source": [
    "import tensorflow as tf\n",
    "from sklearn.datasets import load_digits\n",
    "import matplotlib.pyplot as plt\n",
    "import numpy as np\n",
    "\n",
    "#load dataset and plot first 20 digits\n",
    "\n",
    "digits = load_digits()\n",
    "\n",
    "fig, axes = plt.subplots(4, 5, figsize=(10, 5),\n",
    "                        subplot_kw={'xticks':(), 'yticks': ()})\n",
    "for ax, img in zip(axes.ravel(), digits.images):\n",
    "    ax.imshow(img)"
   ]
  },
  {
   "cell_type": "code",
   "execution_count": 8,
   "metadata": {},
   "outputs": [
    {
     "name": "stdout",
     "output_type": "stream",
     "text": [
      "(1347, 64)\n"
     ]
    }
   ],
   "source": [
    "#break data on train and test sets\n",
    "from sklearn.model_selection import train_test_split\n",
    "X_train, X_test, y_train, y_test = train_test_split(\n",
    "    digits.data, digits.target,  random_state=42, shuffle=True)\n",
    "\n",
    "X_train = X_train.astype('float32')\n",
    "X_test = X_test.astype('float32')\n",
    "m, n = X_train.shape\n",
    "print(X_train.shape)"
   ]
  },
  {
   "cell_type": "code",
   "execution_count": 9,
   "metadata": {
    "scrolled": false
   },
   "outputs": [],
   "source": [
    "#prepare log folder for tensoroard\n",
    "from datetime import datetime\n",
    "\n",
    "now = datetime.utcnow().strftime(\"%Y%m%d%H%M%S\")\n",
    "root_logdir = \"tf_logs\"\n",
    "logdir = \"{}/run-{}/\".format(root_logdir, now)"
   ]
  },
  {
   "cell_type": "code",
   "execution_count": 10,
   "metadata": {},
   "outputs": [],
   "source": [
    "\n",
    "#hyperparameters\n",
    "n_neurons = 100\n",
    "n_neurons2 = 60\n",
    "n_outputs = 10\n",
    "learning_rate = 0.05\n",
    "n_epochs = 500\n",
    "batch = 50\n",
    "# hyperparameters for batch_norm\n",
    "eps = 0.01\n",
    "gamma = 0.1\n",
    "betta = 0.2\n",
    "\n",
    "def fetch_batch(batch):\n",
    "    index = np.random.randint(0, m, batch)\n",
    "    X_batch = X_train[index]\n",
    "    y_batch = y_train[index]\n",
    "    return X_batch, y_batch\n",
    "\n",
    "def batch_norm(X):\n",
    "    mean = tf.reduce_mean(X, 0)\n",
    "    G2 = tf.reduce_mean((X - mean)**2, 0)\n",
    "    x_norm = (X - mean) / (tf.sqrt(G2 + eps))\n",
    "    x_new = gamma * x_norm + betta\n",
    "    return x_new\n",
    "\n",
    "X = tf.placeholder(tf.float32, shape=(None, X_train.shape[1]), name=\"X\")\n",
    "y = tf.placeholder(tf.int64, shape=(None), name=\"y\")\n",
    "\n",
    "#first layer of the simple dnn\n",
    "with tf.name_scope(\"first_layer\"):\n",
    "    init = np.random.randn(n, n_neurons) / np.sqrt(n / 2) #init for Relu\n",
    "    W = tf.Variable(init, name=\"kernel\", dtype=tf.float32)\n",
    "    b = tf.Variable(tf.zeros([n_neurons]), name=\"bias\", dtype=tf.float32)\n",
    "    Z = tf.matmul(X, W) + b\n",
    "    Z = tf.maximum(0.0, Z, name=\"activation\") #Relu\n",
    "    Z = batch_norm(Z) # batch norm\n",
    "    \n",
    "#second layers\n",
    "with tf.name_scope(\"second_layer\"):\n",
    "    init = np.random.randn(n_neurons, n_neurons2) / np.sqrt(n_neurons / 2)\n",
    "    W = tf.Variable(init, name=\"kernel\", dtype=tf.float32)\n",
    "    b = tf.Variable(tf.zeros([n_neurons2]), name=\"bias\", dtype=tf.float32)\n",
    "    Z = tf.matmul(Z, W) + b\n",
    "    Z = tf.maximum(0.0, Z, name=\"activation\")\n",
    "    Z = batch_norm(Z) # batch norm\n",
    "    \n",
    "#last layer\n",
    "with tf.name_scope(\"last_layer\"):\n",
    "    init = np.random.randn(n_neurons2, n_outputs) / np.sqrt(n_neurons2 / 2)\n",
    "    W = tf.Variable(init, name=\"kernel\", dtype=tf.float32)\n",
    "    b = tf.Variable(tf.zeros([n_outputs]), name=\"bias\", dtype=tf.float32)\n",
    "    Z_out = tf.matmul(Z, W) + b\n",
    "       \n",
    "with tf.name_scope(\"loss\"):\n",
    "    xentropy = tf.nn.sparse_softmax_cross_entropy_with_logits(labels=y, logits=Z_out)\n",
    "    loss = tf.reduce_mean(xentropy, name=\"loss\")\n",
    "    \n",
    "with tf.name_scope(\"train\"):\n",
    "    optimizer = tf.train.GradientDescentOptimizer(learning_rate)\n",
    "    training_op = optimizer.minimize(loss)\n",
    "    \n",
    "with tf.name_scope(\"eval\"):\n",
    "    correct = tf.nn.in_top_k(Z_out, y, 1)\n",
    "    accuracy = tf.reduce_mean(tf.cast(correct, tf.float32))\n",
    "      \n",
    "init = tf.global_variables_initializer()\n",
    "saver = tf.train.Saver()\n",
    "\n",
    "#prepare scalars for tensorboard\n",
    "accuracy_summary = tf.summary.scalar('Accuracy', accuracy)\n",
    "loss_summary = tf.summary.scalar('Loss', loss)\n",
    "file_writer = tf.summary.FileWriter(logdir, tf.get_default_graph())\n",
    "\n",
    "with tf.Session() as sess:\n",
    "    init.run()\n",
    "    for epoch in range(n_epochs):\n",
    "        for iteration in range(m // batch):\n",
    "            X_batch, y_batch = fetch_batch(batch)\n",
    "            sess.run(training_op, feed_dict={X: X_batch, y: y_batch})\n",
    "        summary_str_accuracy = accuracy_summary.eval(feed_dict={X: X_batch, y: y_batch})\n",
    "        file_writer.add_summary(summary_str_accuracy, epoch)\n",
    "        summary_str_loss = loss_summary.eval(feed_dict={X: X_batch, y: y_batch})\n",
    "        file_writer.add_summary(summary_str_loss, epoch)\n",
    "        save_path = saver.save(sess, \"./my_model_final.ckpt\")"
   ]
  },
  {
   "cell_type": "code",
   "execution_count": 11,
   "metadata": {},
   "outputs": [],
   "source": [
    "\n",
    "learning_rate = 0.01\n",
    "n_epochs = 500\n",
    "\n",
    "with tf.Session() as sess:\n",
    "    saver.restore(sess, \n",
    "                  \"./my_model_final.ckpt\")\n",
    "    for epoch in range(n_epochs):\n",
    "        for iteration in range(m // batch):\n",
    "            X_batch, y_batch = fetch_batch(batch)\n",
    "            sess.run(training_op, feed_dict={X: X_batch, y: y_batch})\n",
    "        summary_str_accuracy = accuracy_summary.eval(feed_dict={X: X_batch, y: y_batch})\n",
    "        file_writer.add_summary(summary_str_accuracy, epoch)\n",
    "        summary_str_loss = loss_summary.eval(feed_dict={X: X_batch, y: y_batch})\n",
    "        file_writer.add_summary(summary_str_loss, epoch)\n",
    "        save_path = saver.save(sess, \"./my_model_final.ckpt\")"
   ]
  },
  {
   "cell_type": "code",
   "execution_count": 13,
   "metadata": {},
   "outputs": [
    {
     "name": "stdout",
     "output_type": "stream",
     "text": [
      "Test accuracy: 0.9866666793823242\n"
     ]
    }
   ],
   "source": [
    "#predict on test images and evaluate accuracy\n",
    "correct = tf.nn.in_top_k(Z, y_test, 1)\n",
    "cast = tf.cast(correct, tf.float32)\n",
    "accuracy = tf.reduce_mean(cast)\n",
    "\n",
    "with tf.Session() as sess:\n",
    "    saver.restore(sess, \n",
    "                  \"./my_model_final.ckpt\")\n",
    "    Z = Z_out.eval(feed_dict={X: X_test})\n",
    "    y_pred = np.argmax(Z, axis=1)\n",
    "    accuracy = accuracy.eval(feed_dict={X: X_test})\n",
    "    \n",
    "print(\"Test accuracy: {}\".format(accuracy))"
   ]
  },
  {
   "cell_type": "code",
   "execution_count": null,
   "metadata": {},
   "outputs": [],
   "source": []
  }
 ],
 "metadata": {
  "kernelspec": {
   "display_name": "Python 3",
   "language": "python",
   "name": "python3"
  },
  "language_info": {
   "codemirror_mode": {
    "name": "ipython",
    "version": 3
   },
   "file_extension": ".py",
   "mimetype": "text/x-python",
   "name": "python",
   "nbconvert_exporter": "python",
   "pygments_lexer": "ipython3",
   "version": "3.7.4"
  }
 },
 "nbformat": 4,
 "nbformat_minor": 2
}
