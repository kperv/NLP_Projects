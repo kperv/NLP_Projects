{
 "cells": [
  {
   "cell_type": "code",
   "execution_count": 2,
   "metadata": {},
   "outputs": [
    {
     "name": "stdout",
     "output_type": "stream",
     "text": [
      "Grid-Search with accuracy\n",
      "Best parameters: {'C': 1, 'kernel': 'linear'}\n",
      "Best cross-validation score: 0.960\n",
      "Test set AUC: 0.995\n",
      "Test set accuracy: 0.96\n",
      "Best estimator:\n",
      "SVC(C=1, cache_size=200, class_weight=None, coef0=0.0,\n",
      "  decision_function_shape='ovr', degree=3, gamma='auto', kernel='linear',\n",
      "  max_iter=-1, probability=False, random_state=None, shrinking=True,\n",
      "  tol=0.001, verbose=False)\n",
      "Cross-validation scores:  [0.93913043 0.93043478 0.97345133 0.92035398 0.98230088]\n",
      "Mean cross-validation score:  0.9491342824163139\n"
     ]
    }
   ],
   "source": [
    "\"\"\"\n",
    "The notebook shows the score that can be achieved by Support Vector Classifier on breast cancer dataset.\n",
    "The model scoring shows 0.95 score. But AUC gives accuracy of 0.99. The best model prameters are found automaticlly.\n",
    "\"\"\"\n",
    "\n",
    "import seaborn as sns; sns.set()\n",
    "import matplotlib.pyplot as plt\n",
    "import pandas as pd\n",
    "import numpy as np\n",
    "\n",
    "from sklearn.datasets import load_breast_cancer\n",
    "from sklearn.model_selection import train_test_split\n",
    "from sklearn.model_selection import GridSearchCV\n",
    "from sklearn.model_selection import ShuffleSplit\n",
    "from sklearn.model_selection import cross_val_score\n",
    "from sklearn.svm import SVC\n",
    "from sklearn.metrics import roc_auc_score\n",
    "\n",
    "# load and split the data for predicition\n",
    "data = load_breast_cancer()\n",
    "X_train, X_test, y_train, y_test = train_test_split(\n",
    "    data.data, data.target, random_state=0)\n",
    "\n",
    "# set the possible range of parameters for the model to be tried on\n",
    "param_grid = [{'kernel': ['rbf'], \n",
    "              'C': [0.001, 0.01, 0.1, 1, 10, 100],\n",
    "              'gamma': [0.001, 0.01, 0.1, 1, 10, 100]},\n",
    "              {'kernel': ['linear'],\n",
    "              'C': [0.001, 0.01, 0.1, 1, 10, 100]}]\n",
    "\n",
    "# find the best parameters for the classifier\n",
    "grid_search = GridSearchCV(SVC(), param_grid, cv=5, return_train_score=True)\n",
    "grid_search.fit(X_train, y_train)\n",
    "print(\"Grid-Search with accuracy\")\n",
    "print(\"Best parameters: {}\".format(grid_search.best_params_))\n",
    "print(\"Best cross-validation score: {:.3f}\".format(grid_search.best_score_))\n",
    "print(\"Test set AUC: {:.3f}\".format(\n",
    "    roc_auc_score(y_test, grid_search.decision_function(X_test))))\n",
    "print(\"Test set accuracy: {:.2f}\".format(grid_search.score(X_test, y_test)))\n",
    "print(\"Best estimator:\\n{}\".format(grid_search.best_estimator_))\n",
    "\n",
    "# using the best parameters for the model check scores on the dataset\n",
    "svc = grid_search.best_estimator_\n",
    "scores = cross_val_score(GridSearchCV(svc, param_grid, cv=5, return_train_score=True), \n",
    "                         data.data, data.target, cv=5)\n",
    "print(\"Cross-validation scores: \", scores)\n",
    "print(\"Mean cross-validation score: \", scores.mean())\n"
   ]
  },
  {
   "cell_type": "code",
   "execution_count": 3,
   "metadata": {},
   "outputs": [
    {
     "name": "stdout",
     "output_type": "stream",
     "text": [
      "Test score: 0.96\n",
      "Confusion matrix:\n",
      "[[52  1]\n",
      " [ 5 85]]\n",
      "f1 score most frequent: 0.97\n",
      "             precision    recall  f1-score   support\n",
      "\n",
      "          0       0.91      0.98      0.95        53\n",
      "          1       0.99      0.94      0.97        90\n",
      "\n",
      "avg / total       0.96      0.96      0.96       143\n",
      "\n",
      "AUC: 0.995\n",
      "Explicit accuracy scoring: [0.93684211 0.96842105 0.94708995]\n",
      "AUC scoring: [0.99467393 0.9975145  0.98751501]\n"
     ]
    },
    {
     "data": {
      "image/png": "[encoded data removed]",
      "text/plain": [
       "<Figure size 720x720 with 2 Axes>"
      ]
     },
     "metadata": {},
     "output_type": "display_data"
    }
   ],
   "source": [
    "\"\"\"Attempt to get the best from the model and find 0.99 score from AUC scoring\"\"\"\n",
    "\n",
    "from sklearn.metrics import confusion_matrix\n",
    "from sklearn.metrics import f1_score\n",
    "from sklearn.metrics import classification_report\n",
    "from sklearn.metrics import precision_recall_curve\n",
    "from sklearn.metrics import roc_curve\n",
    "from sklearn.metrics import roc_auc_score\n",
    "\n",
    "# check the confusion matrix with other meta-parametes\n",
    "model = svc.fit(X_train, y_train)\n",
    "y_pred = model.predict(X_test)\n",
    "print(\"Test score: {:.2f}\".format(model.score(X_test, y_test)))\n",
    "confusion = confusion_matrix(y_test, y_pred)\n",
    "print(\"Confusion matrix:\\n{}\".format(confusion))\n",
    "print(\"f1 score most frequent: {:.2f}\".format(\n",
    "    f1_score(y_test, y_pred)))\n",
    "print(classification_report(y_test, y_pred))\n",
    "\n",
    "# visualisation of confusion matrix coefs for manual adjusting if needed\n",
    "plt.figure(figsize=(10, 10))\n",
    "plt.subplot(211)\n",
    "precision, recall, thresholds = precision_recall_curve(\n",
    "    y_test, model.decision_function(X_test))\n",
    "close_zero = np.argmin(np.abs(thresholds))\n",
    "plt.plot(precision[close_zero], recall[close_zero], 'o')\n",
    "plt.plot(precision, recall, label=\"precision recall curve\")\n",
    "plt.xlabel(\"Precision\")\n",
    "plt.ylabel(\"Recall\")\n",
    "\n",
    "plt.subplot(212)\n",
    "fpr, tpr, thresholds = roc_curve(y_test, model.decision_function(X_test))\n",
    "plt.plot(fpr, tpr, label=\"ROC Curve\")\n",
    "plt.xlabel(\"FPR\")\n",
    "plt.ylabel(\"TPR (recall)\")\n",
    "close_zero = np.argmin(np.abs(thresholds))\n",
    "plt.plot(fpr[close_zero], tpr[close_zero], 'o')\n",
    "\n",
    "# get the mean score\n",
    "auc = roc_auc_score(y_test, model.decision_function(X_test))\n",
    "print(\"AUC: {:.3f}\".format(auc))\n",
    "\n",
    "# check the mean scores by cross-validation to see the best\n",
    "explicit_accuracy = cross_val_score(model, data.data, \n",
    "                                    data.target, scoring=\"accuracy\")\n",
    "print(\"Explicit accuracy scoring: {}\".format(explicit_accuracy))\n",
    "\n",
    "roc_auc = cross_val_score(model, data.data,\n",
    "                         data.target, scoring=\"roc_auc\")\n",
    "print(\"AUC scoring: {}\".format(roc_auc))"
   ]
  },
  {
   "cell_type": "code",
   "execution_count": null,
   "metadata": {},
   "outputs": [],
   "source": []
  }
 ],
 "metadata": {
  "kernelspec": {
   "display_name": "Python 3",
   "language": "python",
   "name": "python3"
  },
  "language_info": {
   "codemirror_mode": {
    "name": "ipython",
    "version": 3
   },
   "file_extension": ".py",
   "mimetype": "text/x-python",
   "name": "python",
   "nbconvert_exporter": "python",
   "pygments_lexer": "ipython3",
   "version": "3.7.1"
  }
 },
 "nbformat": 4,
 "nbformat_minor": 2
}
