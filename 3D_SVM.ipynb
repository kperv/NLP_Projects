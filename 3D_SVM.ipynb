{
 "cells": [
  {
   "cell_type": "code",
   "execution_count": 1,
   "metadata": {
    "scrolled": false
   },
   "outputs": [
    {
     "data": {
      "image/png": "[encoded data removed]",
      "text/plain": [
       "<Figure size 432x288 with 1 Axes>"
      ]
     },
     "metadata": {},
     "output_type": "display_data"
    },
    {
     "data": {
      "application/vnd.jupyter.widget-view+json": {
       "model_id": "caba475d4b14481999838ee38850e99e",
       "version_major": 2,
       "version_minor": 0
      },
      "text/plain": [
       "interactive(children=(IntSlider(value=0, description='elev', max=90, min=-90), IntSlider(value=0, description=…"
      ]
     },
     "metadata": {},
     "output_type": "display_data"
    }
   ],
   "source": [
    "%matplotlib inline\n",
    "import numpy as np\n",
    "import matplotlib.pyplot as plt\n",
    "import seaborn as sns; sns.set_style(\"whitegrid\")\n",
    "from sklearn.datasets.samples_generator import make_blobs\n",
    "from sklearn.svm import LinearSVC\n",
    "from ipywidgets import interact, fixed\n",
    "from mpl_toolkits import mplot3d\n",
    "\n",
    "X, y = make_blobs(centers=4, random_state=8)\n",
    "plt.scatter(X[:, 0], X[:, 1], c=y)\n",
    "\n",
    "def plot_decision_function(model):\n",
    "    ax = plt.gca(projection='3d')\n",
    "    xlim = ax.get_xlim()\n",
    "    ylim = ax.get_ylim()\n",
    "    x = np.linspace(xlim[0], xlim[1], 30)\n",
    "    y = np.linspace(xlim[0], ylim[1], 30)\n",
    "    X, Y = np.meshgrid(x, y)\n",
    "    xy = np.vstack([X.ravel(), Y.ravel()]).T\n",
    "    P = model.decision_function(xy).reshape(X.shape)\n",
    "    P = (coef[0] * X + coef[1] * Y + intercept) / coef[2]\n",
    "    ax.plot_surface(X, Y, P)\n",
    "    ax.contour(X, Y, P, colors='k', levels=[-1, 0, 1], alpha=0.5, linestyles=['--', '-', '--'])\n",
    "    ax.set_xlim(xlim)\n",
    "    ax.set_ylim(ylim)\n",
    "    \n",
    "def plot_3D(elev=0, azim=0, X=X, y=y):\n",
    "    y = y % 2\n",
    "    X = np.hstack([X, X[:, 1:] ** 2])\n",
    "    model = LinearSVC()\n",
    "    model.fit(X, y)\n",
    "    coef = model.coef_.ravel()\n",
    "    intercept = model.intercept_\n",
    "    \n",
    "    fig = plt.figure(figsize=(15,15))\n",
    "    ax = fig.add_subplot(111, projection='3d')\n",
    "    xlim = [X[:, 0].min(), X[:, 0].max()]\n",
    "    ylim = [X[:, 1].min(), X[:, 1].max()]\n",
    "    xx = np.linspace(xlim[0], xlim[1], 30)\n",
    "    yy = np.linspace(ylim[0], ylim[1], 30)\n",
    "    XX, YY = np.meshgrid(xx, yy)\n",
    "    ZZ = YY ** 2\n",
    "    xyz = np.vstack([XX.ravel(), YY.ravel(), ZZ.ravel()]).T\n",
    "    dec = model.decision_function(xyz)\n",
    "    dec = dec.reshape(XX.shape)\n",
    "    plt.contourf(XX, YY, dec)\n",
    "    P = (coef[0] * XX + coef[1] * YY + intercept) / -coef[2]\n",
    "    ax.plot_surface(XX, YY, P)\n",
    "    \n",
    "    mask = y == 0\n",
    "    ax.scatter3D(X[mask, 0], X[mask, 1], X[mask, 2], \n",
    "                 c='b', s=50, cmap='autumn')\n",
    "    ax.scatter3D(X[~mask, 0], X[~mask, 1], X[~mask, 2], \n",
    "                 c='r', s=50, cmap='autumn')\n",
    "    ax.view_init(elev=elev, azim=azim)\n",
    "    ax.set_xlabel('x')\n",
    "    ax.set_ylabel('y')\n",
    "    ax.set_zlabel('z')\n",
    "    plt.show()\n",
    "\n",
    "interact(plot_3D, elev=(-90, 90), azim=(-180, 180), X=fixed(X), y=fixed(y));"
   ]
  },
  {
   "cell_type": "code",
   "execution_count": null,
   "metadata": {},
   "outputs": [],
   "source": []
  }
 ],
 "metadata": {
  "kernelspec": {
   "display_name": "Python 3",
   "language": "python",
   "name": "python3"
  },
  "language_info": {
   "codemirror_mode": {
    "name": "ipython",
    "version": 3
   },
   "file_extension": ".py",
   "mimetype": "text/x-python",
   "name": "python",
   "nbconvert_exporter": "python",
   "pygments_lexer": "ipython3",
   "version": "3.7.1"
  }
 },
 "nbformat": 4,
 "nbformat_minor": 2
}
